{
 "cells": [
  {
   "cell_type": "markdown",
   "metadata": {},
   "source": [
    "<h1 style = \"color:#34ff00\">Practice Pandas</h1>\n",
    "<p style = \"color:#959b99\">Pandas permite organizar y trabajar con las columnas de un archivo de datos, facilitando su interpretación. Es similar a cómo se puede usar Excel para filtrar y visualizar información, pero Pandas ofrece herramientas mucho más avanzadas y eficientes para el análisis de datos.</p>\n"
   ]
  },
  {
   "cell_type": "code",
   "execution_count": 2,
   "metadata": {},
   "outputs": [],
   "source": [
    "import pandas as pd #Importamos la libreria de pandas y le pones abreviatura como pd"
   ]
  },
  {
   "cell_type": "code",
   "execution_count": 3,
   "metadata": {},
   "outputs": [],
   "source": [
    "df = pd.read_excel(\"ventas.xlsx\") #Leemos el archivo con read\n",
    "#Depende la extension del archivo procedemos a pasarle el siguente parametro _excel"
   ]
  },
  {
   "cell_type": "markdown",
   "metadata": {},
   "source": [
    "<h4 style = \"color:#34ff00\"> Comandos basicos </h4>"
   ]
  },
  {
   "cell_type": "code",
   "execution_count": null,
   "metadata": {},
   "outputs": [],
   "source": [
    "print(df) #Esto hara que nos nos imprima todo el resultado"
   ]
  },
  {
   "cell_type": "code",
   "execution_count": null,
   "metadata": {},
   "outputs": [],
   "source": [
    "print(df.head) # el parametro .head nos devuelve las 5 primeras filas por default"
   ]
  },
  {
   "cell_type": "code",
   "execution_count": null,
   "metadata": {},
   "outputs": [],
   "source": [
    "print(df['Producto']) #De esta manera solo seleccionamos una sola columna "
   ]
  },
  {
   "cell_type": "code",
   "execution_count": null,
   "metadata": {},
   "outputs": [],
   "source": [
    "print(df[['Producto', 'Cantidad', 'Total']]) #De esta manera imprimimos varias"
   ]
  },
  {
   "cell_type": "code",
   "execution_count": null,
   "metadata": {},
   "outputs": [],
   "source": [
    "print(df.iloc[:5]) #De esta manera el parametro .iloc toma  como inicio el \n",
    "# indice que le otorgamos"
   ]
  },
  {
   "cell_type": "code",
   "execution_count": null,
   "metadata": {},
   "outputs": [],
   "source": [
    "print(df[df['Cantidad'] > 15]) # De esta manera la condicion hara su efecto \n",
    "# y nos devuelve el resultado"
   ]
  },
  {
   "cell_type": "code",
   "execution_count": null,
   "metadata": {},
   "outputs": [],
   "source": [
    "print(df.groupby('Producto')['Total'].sum()) # El parametro groupby agrupa todo lo que\n",
    "# se llame de la misma manera y procede a sumar el total de dichos productos\n",
    "# y en ves de .sum se puede colocar tambien .mean para ver el promedio"
   ]
  },
  {
   "cell_type": "code",
   "execution_count": null,
   "metadata": {},
   "outputs": [],
   "source": [
    "print(df.sort_values('Cantidad', ascending=False)) # El parametro .sort_values nos \n",
    "# devuelve como resultado de menor a mayor, por ejemplo tomamos como referencia a\n",
    "# cantidad y con el parametro ascending=False nos devuelve de mayor a menor"
   ]
  },
  {
   "cell_type": "code",
   "execution_count": null,
   "metadata": {},
   "outputs": [],
   "source": []
  }
 ],
 "metadata": {
  "kernelspec": {
   "display_name": "Python 3",
   "language": "python",
   "name": "python3"
  },
  "language_info": {
   "codemirror_mode": {
    "name": "ipython",
    "version": 3
   },
   "file_extension": ".py",
   "mimetype": "text/x-python",
   "name": "python",
   "nbconvert_exporter": "python",
   "pygments_lexer": "ipython3",
   "version": "3.11.2"
  }
 },
 "nbformat": 4,
 "nbformat_minor": 2
}
