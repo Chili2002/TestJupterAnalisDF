{
 "cells": [
  {
   "cell_type": "markdown",
   "metadata": {},
   "source": [
    "<h1 style=\"color:#34ff00\">Practice Numpy + Pandas(leer archivo)</h1>\n",
    "<p style = \"color:#959b99\">Pandas permite leer un archivo y convertirlo en un DataFrame (df), que posteriormente se puede transformar en un array utilizando NumPy. Por ejemplo, puedes obtener un array como: [5 5 7 4]. Un array es similar a una lista, pero al convertirlo con NumPy, obtienes la ventaja de realizar operaciones y cálculos mucho más rápido gracias a su optimización para datos numéricos.</p>"
   ]
  },
  {
   "cell_type": "code",
   "execution_count": 1,
   "metadata": {},
   "outputs": [],
   "source": [
    "import pandas as pd #Importamos la libreria de pandas y le pones abreviatura como pd\n",
    "import numpy as np"
   ]
  },
  {
   "cell_type": "code",
   "execution_count": 3,
   "metadata": {},
   "outputs": [],
   "source": [
    "df = pd.read_excel(\"ventas.xlsx\") #Leemos el archivo con read\n",
    "#Depende la extension del archivo procedemos a pasarle el siguente parametro _excel"
   ]
  },
  {
   "cell_type": "markdown",
   "metadata": {},
   "source": [
    "<h4 style = \"color:#34ff00\"> Comandos basicos </h4>"
   ]
  },
  {
   "cell_type": "code",
   "execution_count": 9,
   "metadata": {},
   "outputs": [],
   "source": [
    "Cantidades = np.array(df['Cantidad'])\n",
    "Precios = np.array(df['Precio'])\n",
    "Totales = np.array(df['Total'])\n",
    "# Creamos un array donde almacenamos el resultado de toda la columna que seleccionamos"
   ]
  },
  {
   "cell_type": "markdown",
   "metadata": {},
   "source": [
    "<p>Es importante crear el array antes de proceder con el codigo</p>"
   ]
  },
  {
   "cell_type": "code",
   "execution_count": null,
   "metadata": {},
   "outputs": [],
   "source": [
    "print(f\"Cantidades: {Cantidades}\")\n",
    "print(f\"Precios: {Precios}\")\n",
    "print(f\"Totales: {Totales}\")\n",
    "# Imprimimos por consola el resultado que hemos asignado a las variables anteriores"
   ]
  },
  {
   "cell_type": "code",
   "execution_count": null,
   "metadata": {},
   "outputs": [],
   "source": [
    "print(f\"Total de ventas {np.sum(Cantidades)}\")\n",
    "# np.sum - np.mean - np.max - np.min"
   ]
  },
  {
   "cell_type": "markdown",
   "metadata": {},
   "source": [
    "<p>En este ejemplo vamos a calcular el promedio de todas las Cantidades, luego lo almacenamos en una variable llamada PromedioCantidades donde luego realizamos una condicion donde entramos </p>"
   ]
  },
  {
   "cell_type": "code",
   "execution_count": null,
   "metadata": {},
   "outputs": [],
   "source": [
    "PromedioCantidades = np.mean(Cantidades)\n",
    "promedioFinalCantidades = Cantidades[Cantidades > PromedioCantidades]\n",
    "print(f\"Promedio mayores que {PromedioCantidades} son los siguientes: \\n{promedioFinalCantidades}\")"
   ]
  },
  {
   "cell_type": "code",
   "execution_count": 36,
   "metadata": {},
   "outputs": [
    {
     "name": "stdout",
     "output_type": "stream",
     "text": [
      "Suma de todas las cantidades y multiplicadas por su precio: [ 40.    2.4 198.  170.   27.   30.8]\n"
     ]
    }
   ],
   "source": [
    "TotalCalculado = np.array(df.groupby(\"Producto\")[\"Cantidad\"].sum()) * np.array(df.groupby(\"Producto\")[\"Precio\"].sum())\n",
    "print(f\"Suma de todas las cantidades y multiplicadas por su precio: {TotalCalculado}\")"
   ]
  },
  {
   "cell_type": "code",
   "execution_count": 49,
   "metadata": {},
   "outputs": [
    {
     "name": "stdout",
     "output_type": "stream",
     "text": [
      "         Fecha   Producto  Cantidad  Precio  Total\n",
      "0   2024-12-01      Lápiz        10     0.5    5.0\n",
      "1   2024-12-01   Cuaderno         5     1.5    7.5\n",
      "2   2024-12-02      Lápiz        20     0.5   10.0\n",
      "3   2024-12-02   Cuaderno         3     1.5    4.5\n",
      "4   2024-12-03  Bolígrafo        15     0.8   12.0\n",
      "5   2024-12-03   Marcador         8     0.9    7.2\n",
      "6   2024-12-04      Regla        12     0.7    8.4\n",
      "7   2024-12-04   Borrador         6     0.4    2.4\n",
      "8   2024-12-05   Cuaderno        10     1.5   15.0\n",
      "9   2024-12-05  Bolígrafo        10     0.8    8.0\n",
      "10  2024-12-06      Lápiz        25     0.5   12.5\n",
      "11  2024-12-06   Marcador         7     0.9    6.3\n",
      "12  2024-12-07      Regla        10     0.7    7.0\n",
      "13  2024-12-07   Cuaderno        15     1.5   22.5\n",
      "14  2024-12-08      Lápiz        30     0.5   15.0\n"
     ]
    }
   ],
   "source": [
    "print(df)"
   ]
  }
 ],
 "metadata": {
  "kernelspec": {
   "display_name": "Python 3",
   "language": "python",
   "name": "python3"
  },
  "language_info": {
   "codemirror_mode": {
    "name": "ipython",
    "version": 3
   },
   "file_extension": ".py",
   "mimetype": "text/x-python",
   "name": "python",
   "nbconvert_exporter": "python",
   "pygments_lexer": "ipython3",
   "version": "3.11.2"
  }
 },
 "nbformat": 4,
 "nbformat_minor": 2
}
